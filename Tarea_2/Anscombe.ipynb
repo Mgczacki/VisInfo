{
 "cells": [
  {
   "cell_type": "code",
   "execution_count": 102,
   "metadata": {},
   "outputs": [],
   "source": [
    "import pandas as pd\n",
    "import matplotlib.pyplot as plt\n",
    "import numpy as np\n",
    "import math"
   ]
  },
  {
   "cell_type": "code",
   "execution_count": 42,
   "metadata": {},
   "outputs": [],
   "source": [
    "data = pd.read_csv('AnscombeQuartet.txt', sep=',', header=None, skiprows=1)"
   ]
  },
  {
   "cell_type": "code",
   "execution_count": 43,
   "metadata": {},
   "outputs": [
    {
     "data": {
      "text/html": [
       "<div>\n",
       "<style scoped>\n",
       "    .dataframe tbody tr th:only-of-type {\n",
       "        vertical-align: middle;\n",
       "    }\n",
       "\n",
       "    .dataframe tbody tr th {\n",
       "        vertical-align: top;\n",
       "    }\n",
       "\n",
       "    .dataframe thead th {\n",
       "        text-align: right;\n",
       "    }\n",
       "</style>\n",
       "<table border=\"1\" class=\"dataframe\">\n",
       "  <thead>\n",
       "    <tr style=\"text-align: right;\">\n",
       "      <th></th>\n",
       "      <th>0</th>\n",
       "      <th>1</th>\n",
       "      <th>2</th>\n",
       "      <th>3</th>\n",
       "      <th>4</th>\n",
       "      <th>5</th>\n",
       "      <th>6</th>\n",
       "      <th>7</th>\n",
       "    </tr>\n",
       "  </thead>\n",
       "  <tbody>\n",
       "    <tr>\n",
       "      <td>0</td>\n",
       "      <td>10</td>\n",
       "      <td>8.04</td>\n",
       "      <td>10</td>\n",
       "      <td>9.14</td>\n",
       "      <td>10</td>\n",
       "      <td>7.46</td>\n",
       "      <td>8</td>\n",
       "      <td>6.58</td>\n",
       "    </tr>\n",
       "    <tr>\n",
       "      <td>1</td>\n",
       "      <td>8</td>\n",
       "      <td>6.95</td>\n",
       "      <td>8</td>\n",
       "      <td>8.14</td>\n",
       "      <td>8</td>\n",
       "      <td>6.77</td>\n",
       "      <td>8</td>\n",
       "      <td>5.76</td>\n",
       "    </tr>\n",
       "    <tr>\n",
       "      <td>2</td>\n",
       "      <td>13</td>\n",
       "      <td>7.58</td>\n",
       "      <td>13</td>\n",
       "      <td>8.74</td>\n",
       "      <td>13</td>\n",
       "      <td>12.74</td>\n",
       "      <td>8</td>\n",
       "      <td>7.71</td>\n",
       "    </tr>\n",
       "    <tr>\n",
       "      <td>3</td>\n",
       "      <td>9</td>\n",
       "      <td>8.81</td>\n",
       "      <td>9</td>\n",
       "      <td>8.77</td>\n",
       "      <td>9</td>\n",
       "      <td>7.11</td>\n",
       "      <td>8</td>\n",
       "      <td>8.84</td>\n",
       "    </tr>\n",
       "    <tr>\n",
       "      <td>4</td>\n",
       "      <td>11</td>\n",
       "      <td>8.33</td>\n",
       "      <td>11</td>\n",
       "      <td>9.26</td>\n",
       "      <td>11</td>\n",
       "      <td>7.81</td>\n",
       "      <td>8</td>\n",
       "      <td>8.47</td>\n",
       "    </tr>\n",
       "    <tr>\n",
       "      <td>5</td>\n",
       "      <td>14</td>\n",
       "      <td>9.96</td>\n",
       "      <td>14</td>\n",
       "      <td>8.10</td>\n",
       "      <td>14</td>\n",
       "      <td>8.84</td>\n",
       "      <td>8</td>\n",
       "      <td>7.04</td>\n",
       "    </tr>\n",
       "    <tr>\n",
       "      <td>6</td>\n",
       "      <td>6</td>\n",
       "      <td>7.24</td>\n",
       "      <td>6</td>\n",
       "      <td>6.13</td>\n",
       "      <td>6</td>\n",
       "      <td>6.08</td>\n",
       "      <td>8</td>\n",
       "      <td>5.25</td>\n",
       "    </tr>\n",
       "    <tr>\n",
       "      <td>7</td>\n",
       "      <td>4</td>\n",
       "      <td>4.26</td>\n",
       "      <td>4</td>\n",
       "      <td>3.10</td>\n",
       "      <td>4</td>\n",
       "      <td>5.39</td>\n",
       "      <td>19</td>\n",
       "      <td>12.50</td>\n",
       "    </tr>\n",
       "    <tr>\n",
       "      <td>8</td>\n",
       "      <td>12</td>\n",
       "      <td>10.84</td>\n",
       "      <td>12</td>\n",
       "      <td>9.13</td>\n",
       "      <td>12</td>\n",
       "      <td>8.15</td>\n",
       "      <td>8</td>\n",
       "      <td>5.56</td>\n",
       "    </tr>\n",
       "    <tr>\n",
       "      <td>9</td>\n",
       "      <td>7</td>\n",
       "      <td>4.82</td>\n",
       "      <td>7</td>\n",
       "      <td>7.26</td>\n",
       "      <td>7</td>\n",
       "      <td>6.42</td>\n",
       "      <td>8</td>\n",
       "      <td>7.91</td>\n",
       "    </tr>\n",
       "    <tr>\n",
       "      <td>10</td>\n",
       "      <td>5</td>\n",
       "      <td>5.68</td>\n",
       "      <td>5</td>\n",
       "      <td>4.74</td>\n",
       "      <td>5</td>\n",
       "      <td>5.73</td>\n",
       "      <td>8</td>\n",
       "      <td>6.89</td>\n",
       "    </tr>\n",
       "  </tbody>\n",
       "</table>\n",
       "</div>"
      ],
      "text/plain": [
       "     0      1   2     3   4      5   6      7\n",
       "0   10   8.04  10  9.14  10   7.46   8   6.58\n",
       "1    8   6.95   8  8.14   8   6.77   8   5.76\n",
       "2   13   7.58  13  8.74  13  12.74   8   7.71\n",
       "3    9   8.81   9  8.77   9   7.11   8   8.84\n",
       "4   11   8.33  11  9.26  11   7.81   8   8.47\n",
       "5   14   9.96  14  8.10  14   8.84   8   7.04\n",
       "6    6   7.24   6  6.13   6   6.08   8   5.25\n",
       "7    4   4.26   4  3.10   4   5.39  19  12.50\n",
       "8   12  10.84  12  9.13  12   8.15   8   5.56\n",
       "9    7   4.82   7  7.26   7   6.42   8   7.91\n",
       "10   5   5.68   5  4.74   5   5.73   8   6.89"
      ]
     },
     "execution_count": 43,
     "metadata": {},
     "output_type": "execute_result"
    }
   ],
   "source": [
    "data"
   ]
  },
  {
   "cell_type": "code",
   "execution_count": 44,
   "metadata": {},
   "outputs": [],
   "source": [
    "header = pd.MultiIndex.from_product([['Dataset 1','Dataset 2', 'Dataset 3', 'Dataset 4'],\n",
    "                                     ['x', 'y']],\n",
    "                                    names=['dat','val'])"
   ]
  },
  {
   "cell_type": "code",
   "execution_count": 45,
   "metadata": {},
   "outputs": [],
   "source": [
    "data.columns = header"
   ]
  },
  {
   "cell_type": "code",
   "execution_count": 46,
   "metadata": {},
   "outputs": [],
   "source": [
    "data.index = [1,2,3,4,5,6,7,8,9,10,11]"
   ]
  },
  {
   "cell_type": "code",
   "execution_count": 47,
   "metadata": {},
   "outputs": [
    {
     "data": {
      "text/html": [
       "<div>\n",
       "<style scoped>\n",
       "    .dataframe tbody tr th:only-of-type {\n",
       "        vertical-align: middle;\n",
       "    }\n",
       "\n",
       "    .dataframe tbody tr th {\n",
       "        vertical-align: top;\n",
       "    }\n",
       "\n",
       "    .dataframe thead tr th {\n",
       "        text-align: left;\n",
       "    }\n",
       "</style>\n",
       "<table border=\"1\" class=\"dataframe\">\n",
       "  <thead>\n",
       "    <tr>\n",
       "      <th>dat</th>\n",
       "      <th colspan=\"2\" halign=\"left\">Dataset 1</th>\n",
       "      <th colspan=\"2\" halign=\"left\">Dataset 2</th>\n",
       "      <th colspan=\"2\" halign=\"left\">Dataset 3</th>\n",
       "      <th colspan=\"2\" halign=\"left\">Dataset 4</th>\n",
       "    </tr>\n",
       "    <tr>\n",
       "      <th>val</th>\n",
       "      <th>x</th>\n",
       "      <th>y</th>\n",
       "      <th>x</th>\n",
       "      <th>y</th>\n",
       "      <th>x</th>\n",
       "      <th>y</th>\n",
       "      <th>x</th>\n",
       "      <th>y</th>\n",
       "    </tr>\n",
       "  </thead>\n",
       "  <tbody>\n",
       "    <tr>\n",
       "      <td>1</td>\n",
       "      <td>10</td>\n",
       "      <td>8.04</td>\n",
       "      <td>10</td>\n",
       "      <td>9.14</td>\n",
       "      <td>10</td>\n",
       "      <td>7.46</td>\n",
       "      <td>8</td>\n",
       "      <td>6.58</td>\n",
       "    </tr>\n",
       "    <tr>\n",
       "      <td>2</td>\n",
       "      <td>8</td>\n",
       "      <td>6.95</td>\n",
       "      <td>8</td>\n",
       "      <td>8.14</td>\n",
       "      <td>8</td>\n",
       "      <td>6.77</td>\n",
       "      <td>8</td>\n",
       "      <td>5.76</td>\n",
       "    </tr>\n",
       "    <tr>\n",
       "      <td>3</td>\n",
       "      <td>13</td>\n",
       "      <td>7.58</td>\n",
       "      <td>13</td>\n",
       "      <td>8.74</td>\n",
       "      <td>13</td>\n",
       "      <td>12.74</td>\n",
       "      <td>8</td>\n",
       "      <td>7.71</td>\n",
       "    </tr>\n",
       "    <tr>\n",
       "      <td>4</td>\n",
       "      <td>9</td>\n",
       "      <td>8.81</td>\n",
       "      <td>9</td>\n",
       "      <td>8.77</td>\n",
       "      <td>9</td>\n",
       "      <td>7.11</td>\n",
       "      <td>8</td>\n",
       "      <td>8.84</td>\n",
       "    </tr>\n",
       "    <tr>\n",
       "      <td>5</td>\n",
       "      <td>11</td>\n",
       "      <td>8.33</td>\n",
       "      <td>11</td>\n",
       "      <td>9.26</td>\n",
       "      <td>11</td>\n",
       "      <td>7.81</td>\n",
       "      <td>8</td>\n",
       "      <td>8.47</td>\n",
       "    </tr>\n",
       "    <tr>\n",
       "      <td>6</td>\n",
       "      <td>14</td>\n",
       "      <td>9.96</td>\n",
       "      <td>14</td>\n",
       "      <td>8.10</td>\n",
       "      <td>14</td>\n",
       "      <td>8.84</td>\n",
       "      <td>8</td>\n",
       "      <td>7.04</td>\n",
       "    </tr>\n",
       "    <tr>\n",
       "      <td>7</td>\n",
       "      <td>6</td>\n",
       "      <td>7.24</td>\n",
       "      <td>6</td>\n",
       "      <td>6.13</td>\n",
       "      <td>6</td>\n",
       "      <td>6.08</td>\n",
       "      <td>8</td>\n",
       "      <td>5.25</td>\n",
       "    </tr>\n",
       "    <tr>\n",
       "      <td>8</td>\n",
       "      <td>4</td>\n",
       "      <td>4.26</td>\n",
       "      <td>4</td>\n",
       "      <td>3.10</td>\n",
       "      <td>4</td>\n",
       "      <td>5.39</td>\n",
       "      <td>19</td>\n",
       "      <td>12.50</td>\n",
       "    </tr>\n",
       "    <tr>\n",
       "      <td>9</td>\n",
       "      <td>12</td>\n",
       "      <td>10.84</td>\n",
       "      <td>12</td>\n",
       "      <td>9.13</td>\n",
       "      <td>12</td>\n",
       "      <td>8.15</td>\n",
       "      <td>8</td>\n",
       "      <td>5.56</td>\n",
       "    </tr>\n",
       "    <tr>\n",
       "      <td>10</td>\n",
       "      <td>7</td>\n",
       "      <td>4.82</td>\n",
       "      <td>7</td>\n",
       "      <td>7.26</td>\n",
       "      <td>7</td>\n",
       "      <td>6.42</td>\n",
       "      <td>8</td>\n",
       "      <td>7.91</td>\n",
       "    </tr>\n",
       "    <tr>\n",
       "      <td>11</td>\n",
       "      <td>5</td>\n",
       "      <td>5.68</td>\n",
       "      <td>5</td>\n",
       "      <td>4.74</td>\n",
       "      <td>5</td>\n",
       "      <td>5.73</td>\n",
       "      <td>8</td>\n",
       "      <td>6.89</td>\n",
       "    </tr>\n",
       "  </tbody>\n",
       "</table>\n",
       "</div>"
      ],
      "text/plain": [
       "dat Dataset 1        Dataset 2       Dataset 3        Dataset 4       \n",
       "val         x      y         x     y         x      y         x      y\n",
       "1          10   8.04        10  9.14        10   7.46         8   6.58\n",
       "2           8   6.95         8  8.14         8   6.77         8   5.76\n",
       "3          13   7.58        13  8.74        13  12.74         8   7.71\n",
       "4           9   8.81         9  8.77         9   7.11         8   8.84\n",
       "5          11   8.33        11  9.26        11   7.81         8   8.47\n",
       "6          14   9.96        14  8.10        14   8.84         8   7.04\n",
       "7           6   7.24         6  6.13         6   6.08         8   5.25\n",
       "8           4   4.26         4  3.10         4   5.39        19  12.50\n",
       "9          12  10.84        12  9.13        12   8.15         8   5.56\n",
       "10          7   4.82         7  7.26         7   6.42         8   7.91\n",
       "11          5   5.68         5  4.74         5   5.73         8   6.89"
      ]
     },
     "execution_count": 47,
     "metadata": {},
     "output_type": "execute_result"
    }
   ],
   "source": [
    "data"
   ]
  },
  {
   "cell_type": "code",
   "execution_count": 48,
   "metadata": {},
   "outputs": [],
   "source": [
    "#data.to_latex('hola.tex')"
   ]
  },
  {
   "cell_type": "code",
   "execution_count": 49,
   "metadata": {},
   "outputs": [
    {
     "data": {
      "text/html": [
       "<div>\n",
       "<style scoped>\n",
       "    .dataframe tbody tr th:only-of-type {\n",
       "        vertical-align: middle;\n",
       "    }\n",
       "\n",
       "    .dataframe tbody tr th {\n",
       "        vertical-align: top;\n",
       "    }\n",
       "\n",
       "    .dataframe thead th {\n",
       "        text-align: right;\n",
       "    }\n",
       "</style>\n",
       "<table border=\"1\" class=\"dataframe\">\n",
       "  <thead>\n",
       "    <tr style=\"text-align: right;\">\n",
       "      <th></th>\n",
       "      <th>$x_1$</th>\n",
       "      <th>$y_1$</th>\n",
       "      <th>$x_2$</th>\n",
       "      <th>$y_2$</th>\n",
       "      <th>$x_3$</th>\n",
       "      <th>$y_3$</th>\n",
       "      <th>$x_4$</th>\n",
       "      <th>$y_4$</th>\n",
       "    </tr>\n",
       "  </thead>\n",
       "  <tbody>\n",
       "    <tr>\n",
       "      <td>1</td>\n",
       "      <td>10</td>\n",
       "      <td>8.04</td>\n",
       "      <td>10</td>\n",
       "      <td>9.14</td>\n",
       "      <td>10</td>\n",
       "      <td>7.46</td>\n",
       "      <td>8</td>\n",
       "      <td>6.58</td>\n",
       "    </tr>\n",
       "    <tr>\n",
       "      <td>2</td>\n",
       "      <td>8</td>\n",
       "      <td>6.95</td>\n",
       "      <td>8</td>\n",
       "      <td>8.14</td>\n",
       "      <td>8</td>\n",
       "      <td>6.77</td>\n",
       "      <td>8</td>\n",
       "      <td>5.76</td>\n",
       "    </tr>\n",
       "    <tr>\n",
       "      <td>3</td>\n",
       "      <td>13</td>\n",
       "      <td>7.58</td>\n",
       "      <td>13</td>\n",
       "      <td>8.74</td>\n",
       "      <td>13</td>\n",
       "      <td>12.74</td>\n",
       "      <td>8</td>\n",
       "      <td>7.71</td>\n",
       "    </tr>\n",
       "    <tr>\n",
       "      <td>4</td>\n",
       "      <td>9</td>\n",
       "      <td>8.81</td>\n",
       "      <td>9</td>\n",
       "      <td>8.77</td>\n",
       "      <td>9</td>\n",
       "      <td>7.11</td>\n",
       "      <td>8</td>\n",
       "      <td>8.84</td>\n",
       "    </tr>\n",
       "    <tr>\n",
       "      <td>5</td>\n",
       "      <td>11</td>\n",
       "      <td>8.33</td>\n",
       "      <td>11</td>\n",
       "      <td>9.26</td>\n",
       "      <td>11</td>\n",
       "      <td>7.81</td>\n",
       "      <td>8</td>\n",
       "      <td>8.47</td>\n",
       "    </tr>\n",
       "    <tr>\n",
       "      <td>6</td>\n",
       "      <td>14</td>\n",
       "      <td>9.96</td>\n",
       "      <td>14</td>\n",
       "      <td>8.10</td>\n",
       "      <td>14</td>\n",
       "      <td>8.84</td>\n",
       "      <td>8</td>\n",
       "      <td>7.04</td>\n",
       "    </tr>\n",
       "    <tr>\n",
       "      <td>7</td>\n",
       "      <td>6</td>\n",
       "      <td>7.24</td>\n",
       "      <td>6</td>\n",
       "      <td>6.13</td>\n",
       "      <td>6</td>\n",
       "      <td>6.08</td>\n",
       "      <td>8</td>\n",
       "      <td>5.25</td>\n",
       "    </tr>\n",
       "    <tr>\n",
       "      <td>8</td>\n",
       "      <td>4</td>\n",
       "      <td>4.26</td>\n",
       "      <td>4</td>\n",
       "      <td>3.10</td>\n",
       "      <td>4</td>\n",
       "      <td>5.39</td>\n",
       "      <td>19</td>\n",
       "      <td>12.50</td>\n",
       "    </tr>\n",
       "    <tr>\n",
       "      <td>9</td>\n",
       "      <td>12</td>\n",
       "      <td>10.84</td>\n",
       "      <td>12</td>\n",
       "      <td>9.13</td>\n",
       "      <td>12</td>\n",
       "      <td>8.15</td>\n",
       "      <td>8</td>\n",
       "      <td>5.56</td>\n",
       "    </tr>\n",
       "    <tr>\n",
       "      <td>10</td>\n",
       "      <td>7</td>\n",
       "      <td>4.82</td>\n",
       "      <td>7</td>\n",
       "      <td>7.26</td>\n",
       "      <td>7</td>\n",
       "      <td>6.42</td>\n",
       "      <td>8</td>\n",
       "      <td>7.91</td>\n",
       "    </tr>\n",
       "    <tr>\n",
       "      <td>11</td>\n",
       "      <td>5</td>\n",
       "      <td>5.68</td>\n",
       "      <td>5</td>\n",
       "      <td>4.74</td>\n",
       "      <td>5</td>\n",
       "      <td>5.73</td>\n",
       "      <td>8</td>\n",
       "      <td>6.89</td>\n",
       "    </tr>\n",
       "  </tbody>\n",
       "</table>\n",
       "</div>"
      ],
      "text/plain": [
       "    $x_1$  $y_1$  $x_2$  $y_2$  $x_3$  $y_3$  $x_4$  $y_4$\n",
       "1      10   8.04     10   9.14     10   7.46      8   6.58\n",
       "2       8   6.95      8   8.14      8   6.77      8   5.76\n",
       "3      13   7.58     13   8.74     13  12.74      8   7.71\n",
       "4       9   8.81      9   8.77      9   7.11      8   8.84\n",
       "5      11   8.33     11   9.26     11   7.81      8   8.47\n",
       "6      14   9.96     14   8.10     14   8.84      8   7.04\n",
       "7       6   7.24      6   6.13      6   6.08      8   5.25\n",
       "8       4   4.26      4   3.10      4   5.39     19  12.50\n",
       "9      12  10.84     12   9.13     12   8.15      8   5.56\n",
       "10      7   4.82      7   7.26      7   6.42      8   7.91\n",
       "11      5   5.68      5   4.74      5   5.73      8   6.89"
      ]
     },
     "execution_count": 49,
     "metadata": {},
     "output_type": "execute_result"
    }
   ],
   "source": [
    "data.columns = ['$x_1$','$y_1$','$x_2$','$y_2$','$x_3$','$y_3$','$x_4$','$y_4$']\n",
    "data"
   ]
  },
  {
   "cell_type": "code",
   "execution_count": 50,
   "metadata": {},
   "outputs": [
    {
     "data": {
      "text/plain": [
       "<matplotlib.axes._subplots.AxesSubplot at 0x7f6a5d285090>"
      ]
     },
     "execution_count": 50,
     "metadata": {},
     "output_type": "execute_result"
    },
    {
     "data": {
      "image/png": "[encoded data removed]",
      "text/plain": [
       "<Figure size 1080x720 with 4 Axes>"
      ]
     },
     "metadata": {
      "needs_background": "light"
     },
     "output_type": "display_data"
    }
   ],
   "source": [
    "fig, axes = plt.subplots(nrows=2, ncols=2, figsize=(15,10))\n",
    "plt.tight_layout(pad=3.0)\n",
    "\n",
    "parametros = {'marker':'o', 'c':'orange', 'edgecolor':'red', 's':75, 'xlim':[2,20], 'ylim':[0,14]}\n",
    "data.plot.scatter('$x_1$','$y_1$', label='Dataset 1', ax=axes[0,0], **parametros)\n",
    "data.plot.scatter('$x_2$','$y_2$', label='Dataset 2', ax=axes[0,1], **parametros)\n",
    "data.plot.scatter('$x_3$','$y_3$', label='Dataset 3', ax=axes[1,0], **parametros)\n",
    "data.plot.scatter('$x_4$','$y_4$', label='Dataset 4', ax=axes[1,1], **parametros)"
   ]
  },
  {
   "cell_type": "code",
   "execution_count": 51,
   "metadata": {},
   "outputs": [],
   "source": [
    "from sklearn.linear_model import LinearRegression"
   ]
  },
  {
   "cell_type": "code",
   "execution_count": 52,
   "metadata": {},
   "outputs": [],
   "source": [
    "def regresionLineal(data, i):\n",
    "    X = data.iloc[:, i].values.reshape(-1, 1)  # values converts it into a numpy array\n",
    "    Y = data.iloc[:, i+1].values.reshape(-1, 1)  # -1 means that calculate the dimension of rows, but have 1 column\n",
    "    linear_regressor = LinearRegression()  # create object for the class\n",
    "    linear_regressor.fit(X, Y)  # perform linear regression\n",
    "\n",
    "    X_pred =np.arange(0,21,1)\n",
    "    X_pred.shape = (-1,1)\n",
    "    Y_pred = linear_regressor.predict(X_pred)  # make predictions\n",
    "    \n",
    "    return X, Y, X_pred, Y_pred"
   ]
  },
  {
   "cell_type": "code",
   "execution_count": 53,
   "metadata": {},
   "outputs": [
    {
     "data": {
      "image/png": "[encoded data removed]",
      "text/plain": [
       "<Figure size 720x432 with 4 Axes>"
      ]
     },
     "metadata": {
      "needs_background": "light"
     },
     "output_type": "display_data"
    }
   ],
   "source": [
    "fig, axes = plt.subplots(nrows=2, ncols=2, figsize=(10,6))\n",
    "\n",
    "i = 0\n",
    "for a in axes:\n",
    "    for ax in a:\n",
    "        X, Y, X_pred, Y_pred = regresionLineal(data, i)\n",
    "        ax.scatter(X, Y, marker = 'o', c='orange', s=75, edgecolor='red')\n",
    "        ax.plot(X_pred, Y_pred, color='blue', lw=0.75)\n",
    "        ax.set_xlim(2,20)\n",
    "        ax.set_aspect(aspect=1.0)\n",
    "        i += 2"
   ]
  },
  {
   "cell_type": "markdown",
   "metadata": {},
   "source": [
    "## Punto de vista\n",
    "\n",
    "Creo que este artículo nos da un panorama de la utilidad de las gráficas contra las medidas estadísticas más comunes. Esto se hace por medio de ejemplos que nos permiten comprender la escencia de la estadística. Esto es, que los valores dados por las medidas estadísticas más simples no son más que formas de resumir datos en una dimensión, por lo que son facilmente manipulables y sin lugar a dudas, poco confiables como único indicador de tendencia de los datos.\n",
    "\n",
    "Por otro lado, aunque no sea necesariamente preciso (en forma de un solo valor), las gráficas nos permiten notar tendencias y patrones. Esto, en vez de darnos una descripción precisa de los datos, nos permite ver el panorama de los datos con los que vamos a trabajar. Mediante el uso de gráficas para la visualización de datos, podemos generar una mejor comprensión del fenómeno evaluado, e incluso podemos proponer modelos iniciales (como una regresión) para describir al fenómeno observado."
   ]
  },
  {
   "cell_type": "markdown",
   "metadata": {},
   "source": [
    "## Cálculos"
   ]
  },
  {
   "cell_type": "code",
   "execution_count": 66,
   "metadata": {},
   "outputs": [],
   "source": [
    "x1 = data['$x_1$'].to_numpy()\n",
    "y1 = data['$y_1$'].to_numpy()\n",
    "x2 = data['$x_2$'].to_numpy()\n",
    "y2 = data['$y_2$'].to_numpy()\n",
    "x3 = data['$x_3$'].to_numpy()\n",
    "y3 = data['$y_3$'].to_numpy()\n",
    "x4 = data['$x_4$'].to_numpy()\n",
    "y4 = data['$y_4$'].to_numpy()"
   ]
  },
  {
   "cell_type": "code",
   "execution_count": 71,
   "metadata": {},
   "outputs": [],
   "source": [
    "mean_x1 = np.average(x1)\n",
    "mean_x2 = np.average(x2)\n",
    "mean_x3 = np.average(x3)\n",
    "mean_x4 = np.average(x4)\n",
    "var_x1 = np.var(x1)\n",
    "var_x2 = np.var(x2)\n",
    "var_x3 = np.var(x3)\n",
    "var_x4 = np.var(x4)\n",
    "mean_y1 = np.average(y1)\n",
    "mean_y2 = np.average(y2)\n",
    "mean_y3 = np.average(y3)\n",
    "mean_y4 = np.average(y4)\n",
    "var_y1 = np.var(y1)\n",
    "var_y2 = np.var(y2)\n",
    "var_y3 = np.var(y3)\n",
    "var_y4 = np.var(y4)\n",
    "corr_1 = np.corrcoef(x1, y1)[1,0]\n",
    "corr_2 = np.corrcoef(x2, y2)[1,0]\n",
    "corr_3 = np.corrcoef(x3, y3)[1,0]\n",
    "corr_4 = np.corrcoef(x4, y4)[1,0]\n",
    "model_1 = LinearRegression()\n",
    "model_1.fit(x1.reshape(-1, 1), y1)\n",
    "model_2 = LinearRegression()\n",
    "model_2.fit(x2.reshape(-1, 1), y2)\n",
    "model_3 = LinearRegression()\n",
    "model_3.fit(x3.reshape(-1, 1), y3)\n",
    "model_4 = LinearRegression()\n",
    "model_4.fit(x4.reshape(-1, 1), y4)\n",
    "pred_1 = model_1.score(x1.reshape(-1, 1),y1)\n",
    "pred_2 = model_2.score(x2.reshape(-1, 1),y2)\n",
    "pred_3 = model_3.score(x3.reshape(-1, 1),y3)\n",
    "pred_4 = model_4.score(x4.reshape(-1, 1),y4)"
   ]
  },
  {
   "cell_type": "code",
   "execution_count": 72,
   "metadata": {},
   "outputs": [
    {
     "name": "stdout",
     "output_type": "stream",
     "text": [
      "Medias de x:\n",
      "x1 : 9.0\n",
      "x2 : 9.0\n",
      "x3 : 9.0\n",
      "x4 : 9.0\n"
     ]
    }
   ],
   "source": [
    "print('Medias de x:')\n",
    "print('x1 : '+str(mean_x1))\n",
    "print('x2 : '+str(mean_x2))\n",
    "print('x3 : '+str(mean_x3))\n",
    "print('x4 : '+str(mean_x4))"
   ]
  },
  {
   "cell_type": "code",
   "execution_count": 73,
   "metadata": {},
   "outputs": [
    {
     "name": "stdout",
     "output_type": "stream",
     "text": [
      "Varianza muestral de x:\n",
      "v1 : 10.0\n",
      "v2 : 10.0\n",
      "v3 : 10.0\n",
      "v4 : 10.0\n"
     ]
    }
   ],
   "source": [
    "print('Varianza muestral de x:')\n",
    "print('v1 : '+str(var_x1))\n",
    "print('v2 : '+str(var_x2))\n",
    "print('v3 : '+str(var_x3))\n",
    "print('v4 : '+str(var_x4))"
   ]
  },
  {
   "cell_type": "code",
   "execution_count": 74,
   "metadata": {},
   "outputs": [
    {
     "name": "stdout",
     "output_type": "stream",
     "text": [
      "Medias de y:\n",
      "y1 : 7.500909090909093\n",
      "y2 : 7.50090909090909\n",
      "y3 : 7.5\n",
      "y4 : 7.500909090909091\n"
     ]
    }
   ],
   "source": [
    "print('Medias de y:')\n",
    "print('y1 : '+str(mean_y1))\n",
    "print('y2 : '+str(mean_y2))\n",
    "print('y3 : '+str(mean_y3))\n",
    "print('y4 : '+str(mean_y4))"
   ]
  },
  {
   "cell_type": "code",
   "execution_count": 75,
   "metadata": {},
   "outputs": [
    {
     "name": "stdout",
     "output_type": "stream",
     "text": [
      "Varianza muestral de y:\n",
      "v1 : 3.7520628099173554\n",
      "v2 : 3.752390082644628\n",
      "v3 : 3.747836363636364\n",
      "v4 : 3.7484082644628103\n"
     ]
    }
   ],
   "source": [
    "print('Varianza muestral de y:')\n",
    "print('v1 : '+str(var_y1))\n",
    "print('v2 : '+str(var_y2))\n",
    "print('v3 : '+str(var_y3))\n",
    "print('v4 : '+str(var_y4))"
   ]
  },
  {
   "cell_type": "code",
   "execution_count": 77,
   "metadata": {},
   "outputs": [
    {
     "name": "stdout",
     "output_type": "stream",
     "text": [
      "Correlaciones de x, y\n",
      "corr1 : 0.8164205163448399\n",
      "corr2 : 0.8162365060002428\n",
      "corr3 : 0.8162867394895984\n",
      "corr4 : 0.8165214368885029\n"
     ]
    }
   ],
   "source": [
    "print('Correlaciones de x, y')\n",
    "print('corr1 : '+str(corr_1))\n",
    "print('corr2 : '+str(corr_2))\n",
    "print('corr3 : '+str(corr_3))\n",
    "print('corr4 : '+str(corr_4))"
   ]
  },
  {
   "cell_type": "code",
   "execution_count": 96,
   "metadata": {},
   "outputs": [
    {
     "name": "stdout",
     "output_type": "stream",
     "text": [
      "Regresiones lineales de cada dataset:\n",
      "1 :  m = 0.5 b = 3.0 R^2 = 0.67\n",
      "2 :  m = 0.5 b = 3.0 R^2 = 0.67\n",
      "3 :  m = 0.5 b = 3.0 R^2 = 0.67\n",
      "4 :  m = 0.5 b = 3.0 R^2 = 0.67\n"
     ]
    }
   ],
   "source": [
    "print('Regresiones lineales de cada dataset con R^2:')\n",
    "print('1 : '+' m = '+ str(round(model_1.coef_[0],2)) + ' b = '+ str(round(model_1.intercept_,2)) + ' R^2 = ' +str(round(pred_1,2)))\n",
    "print('2 : '+' m = '+ str(round(model_2.coef_[0],2)) + ' b = '+ str(round(model_2.intercept_,2)) + ' R^2 = ' +str(round(pred_2,2)))\n",
    "print('3 : '+' m = '+ str(round(model_3.coef_[0],2)) + ' b = '+ str(round(model_3.intercept_,2)) + ' R^2 = ' +str(round(pred_3,2)))\n",
    "print('4 : '+' m = '+ str(round(model_4.coef_[0],2)) + ' b = '+ str(round(model_4.intercept_,2)) + ' R^2 = ' +str(round(pred_4,2)))"
   ]
  },
  {
   "cell_type": "markdown",
   "metadata": {},
   "source": [
    "## Gráficos retocados"
   ]
  },
  {
   "cell_type": "code",
   "execution_count": 111,
   "metadata": {},
   "outputs": [
    {
     "data": {
      "image/png": "[encoded data removed]",
      "text/plain": [
       "<Figure size 720x432 with 4 Axes>"
      ]
     },
     "metadata": {
      "needs_background": "light"
     },
     "output_type": "display_data"
    }
   ],
   "source": [
    "fig, axes = plt.subplots(nrows=2, ncols=2, figsize=(10,6))\n",
    "\n",
    "i = 0\n",
    "fig.tight_layout(pad=4.0)\n",
    "for a in axes:\n",
    "    for ax in a:\n",
    "        X, Y, X_pred, Y_pred = regresionLineal(data, i)\n",
    "        ax.scatter(X, Y, marker = 'o', c='orange', s=60, edgecolor='red',alpha = 0.7)\n",
    "        ax.plot(X_pred, Y_pred, color='blue', lw=0.75)\n",
    "        ax.set_xlim(2,20)\n",
    "        ax.set_aspect(aspect=1.0)\n",
    "        ax.set(xlabel='X', ylabel='Y',\n",
    "        title='Dataset '+str(math.ceil(i/2)+1))\n",
    "        ax.legend(['Regresión lineal'])\n",
    "        i += 2"
   ]
  },
  {
   "cell_type": "code",
   "execution_count": null,
   "metadata": {},
   "outputs": [],
   "source": []
  }
 ],
 "metadata": {
  "kernelspec": {
   "display_name": "Python 3",
   "language": "python",
   "name": "python3"
  },
  "language_info": {
   "codemirror_mode": {
    "name": "ipython",
    "version": 3
   },
   "file_extension": ".py",
   "mimetype": "text/x-python",
   "name": "python",
   "nbconvert_exporter": "python",
   "pygments_lexer": "ipython3",
   "version": "3.7.4"
  }
 },
 "nbformat": 4,
 "nbformat_minor": 2
}
